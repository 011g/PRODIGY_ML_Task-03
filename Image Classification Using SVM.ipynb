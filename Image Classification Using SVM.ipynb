{
 "cells": [
  {
   "cell_type": "code",
   "execution_count": 1,
   "id": "144f0a96",
   "metadata": {},
   "outputs": [],
   "source": [
    "# extract dataset\n",
    "from zipfile import ZipFile\n",
    "\n",
    "dataset_train = \"dogs-vs-cats.zip\"\n",
    "    \n",
    "with ZipFile(dataset_train, 'r') as zip:\n",
    "    zip.extractall()"
   ]
  },
  {
   "cell_type": "code",
   "execution_count": 2,
   "id": "5a6338c8",
   "metadata": {},
   "outputs": [],
   "source": [
    "import os\n",
    "import numpy as np\n",
    "from sklearn.svm import SVC\n",
    "from sklearn.metrics import classification_report, confusion_matrix\n",
    "import matplotlib.pyplot as plt\n",
    "from tqdm import tqdm\n",
    "import joblib\n",
    "from sklearn.model_selection import GridSearchCV\n",
    "import cv2\n",
    "import seaborn as sns\n",
    "import time\n",
    "from sklearn.decomposition import PCA\n",
    "from sklearn.pipeline import Pipeline\n",
    "from sklearn.model_selection import train_test_split"
   ]
  },
  {
   "cell_type": "code",
   "execution_count": 3,
   "id": "2a4ded38",
   "metadata": {},
   "outputs": [],
   "source": [
    "folder_path = f\"Dataset/\"\n",
    "os.makedirs(folder_path, exist_ok=True)\n",
    "\n",
    "# define path\n",
    "confusion_image_path = os.path.join(folder_path, 'confusion matrix.png')\n",
    "classification_file_path = os.path.join(folder_path, 'classification_report.txt')\n",
    "model_file_path = os.path.join(folder_path, \"svm_model.pkl\")\n",
    "\n",
    "# Path dataset\n",
    "dataset_dir = \"Dataset/\"\n",
    "train_dir = os.path.join(dataset_dir, \"train\")\n",
    "test_dir = os.path.join(dataset_dir, \"test1\")"
   ]
  },
  {
   "cell_type": "code",
   "execution_count": 5,
   "id": "7728f67f",
   "metadata": {},
   "outputs": [
    {
     "name": "stderr",
     "output_type": "stream",
     "text": [
      "Processing Train Images: 100%|██████████| 25000/25000 [02:39<00:00, 156.87it/s]\n"
     ]
    }
   ],
   "source": [
    "# load data, preprocessing data, and labeling\n",
    "# dog = 1, cat = 0\n",
    "train_images = os.listdir(train_dir)\n",
    "features = []\n",
    "labels = []\n",
    "image_size = (50, 50)\n",
    "\n",
    "# Proses train images\n",
    "for image in tqdm(train_images, desc=\"Processing Train Images\"):\n",
    "    if image[0:3] == 'cat' :\n",
    "        label = 0\n",
    "    else :\n",
    "        label = 1\n",
    "    image_read = cv2.imread(train_dir+\"/\"+image)\n",
    "    image_resized = cv2.resize(image_read, image_size)\n",
    "    image_normalized = image_resized / 255.0\n",
    "    image_flatten = image_normalized.flatten()\n",
    "    features.append(image_flatten)\n",
    "    labels.append(label)"
   ]
  },
  {
   "cell_type": "code",
   "execution_count": 6,
   "id": "3c01dacc",
   "metadata": {},
   "outputs": [],
   "source": [
    "del train_images"
   ]
  },
  {
   "cell_type": "code",
   "execution_count": 7,
   "id": "e5dc1d8d",
   "metadata": {},
   "outputs": [],
   "source": [
    "features = np.asarray(features)\n",
    "labels = np.asarray(labels)\n",
    "\n",
    "# train test split\n",
    "X_train, X_test, y_train, y_test = train_test_split(features, labels, test_size=0.2, shuffle=True, random_state=42)"
   ]
  },
  {
   "cell_type": "code",
   "execution_count": 8,
   "id": "af22df17",
   "metadata": {},
   "outputs": [],
   "source": [
    "del features\n",
    "del labels"
   ]
  },
  {
   "cell_type": "code",
   "execution_count": 9,
   "id": "14c35b9e",
   "metadata": {},
   "outputs": [],
   "source": [
    "# PCA, SVM, & Pipeline\n",
    "n_components = 0.8\n",
    "pca = PCA(n_components=n_components)\n",
    "svm = SVC()\n",
    "pca = PCA(n_components=n_components, random_state=42)\n",
    "pipeline = Pipeline([\n",
    "    ('pca', pca),\n",
    "    ('svm', svm)\n",
    "])"
   ]
  },
  {
   "cell_type": "code",
   "execution_count": 10,
   "id": "c1fbd8b6",
   "metadata": {},
   "outputs": [],
   "source": [
    "param_grid = {\n",
    "    'pca__n_components': [2, 1, 0.9, 0.8],\n",
    "    'svm__kernel': ['linear', 'rbf', 'poly', 'sigmoid'],\n",
    "}"
   ]
  },
  {
   "cell_type": "code",
   "execution_count": 11,
   "id": "33d79a23",
   "metadata": {},
   "outputs": [
    {
     "name": "stdout",
     "output_type": "stream",
     "text": [
      "Fitting 3 folds for each of 16 candidates, totalling 48 fits\n",
      "[CV 1/3] END pca__n_components=2, svm__kernel=linear;, score=0.528 total time= 1.4min\n",
      "[CV 2/3] END pca__n_components=2, svm__kernel=linear;, score=0.525 total time= 1.3min\n",
      "[CV 3/3] END pca__n_components=2, svm__kernel=linear;, score=0.537 total time= 1.2min\n",
      "[CV 1/3] END pca__n_components=2, svm__kernel=rbf;, score=0.570 total time= 1.0min\n",
      "[CV 2/3] END pca__n_components=2, svm__kernel=rbf;, score=0.560 total time=  59.7s\n",
      "[CV 3/3] END pca__n_components=2, svm__kernel=rbf;, score=0.564 total time=  58.2s\n",
      "[CV 1/3] END pca__n_components=2, svm__kernel=poly;, score=0.504 total time=  45.3s\n",
      "[CV 2/3] END pca__n_components=2, svm__kernel=poly;, score=0.486 total time=  49.6s\n",
      "[CV 3/3] END pca__n_components=2, svm__kernel=poly;, score=0.492 total time=  49.2s\n",
      "[CV 1/3] END pca__n_components=2, svm__kernel=sigmoid;, score=0.507 total time=  44.0s\n",
      "[CV 2/3] END pca__n_components=2, svm__kernel=sigmoid;, score=0.495 total time=  40.0s\n",
      "[CV 3/3] END pca__n_components=2, svm__kernel=sigmoid;, score=0.505 total time=  50.2s\n",
      "[CV 1/3] END pca__n_components=1, svm__kernel=linear;, score=0.518 total time=  51.3s\n",
      "[CV 2/3] END pca__n_components=1, svm__kernel=linear;, score=0.512 total time=  56.8s\n",
      "[CV 3/3] END pca__n_components=1, svm__kernel=linear;, score=0.525 total time= 1.2min\n",
      "[CV 1/3] END pca__n_components=1, svm__kernel=rbf;, score=0.527 total time= 1.2min\n",
      "[CV 2/3] END pca__n_components=1, svm__kernel=rbf;, score=0.525 total time= 1.1min\n",
      "[CV 3/3] END pca__n_components=1, svm__kernel=rbf;, score=0.529 total time= 1.0min\n",
      "[CV 1/3] END pca__n_components=1, svm__kernel=poly;, score=0.501 total time=  59.7s\n",
      "[CV 2/3] END pca__n_components=1, svm__kernel=poly;, score=0.495 total time= 1.1min\n",
      "[CV 3/3] END pca__n_components=1, svm__kernel=poly;, score=0.499 total time=  54.7s\n",
      "[CV 1/3] END pca__n_components=1, svm__kernel=sigmoid;, score=0.505 total time=  43.6s\n",
      "[CV 2/3] END pca__n_components=1, svm__kernel=sigmoid;, score=0.495 total time=  40.1s\n",
      "[CV 3/3] END pca__n_components=1, svm__kernel=sigmoid;, score=0.500 total time=  41.3s\n",
      "[CV 1/3] END pca__n_components=0.9, svm__kernel=linear;, score=nan total time=  36.5s\n",
      "[CV 2/3] END pca__n_components=0.9, svm__kernel=linear;, score=nan total time=  34.1s\n",
      "[CV 3/3] END pca__n_components=0.9, svm__kernel=linear;, score=nan total time=  27.8s\n",
      "[CV 1/3] END pca__n_components=0.9, svm__kernel=rbf;, score=nan total time=  25.3s\n",
      "[CV 2/3] END pca__n_components=0.9, svm__kernel=rbf;, score=nan total time=  18.1s\n",
      "[CV 3/3] END pca__n_components=0.9, svm__kernel=rbf;, score=nan total time=  22.6s\n",
      "[CV 1/3] END pca__n_components=0.9, svm__kernel=poly;, score=nan total time=  20.4s\n",
      "[CV 2/3] END pca__n_components=0.9, svm__kernel=poly;, score=nan total time=  18.8s\n",
      "[CV 3/3] END pca__n_components=0.9, svm__kernel=poly;, score=nan total time=  18.6s\n",
      "[CV 1/3] END pca__n_components=0.9, svm__kernel=sigmoid;, score=nan total time=  14.7s\n",
      "[CV 2/3] END pca__n_components=0.9, svm__kernel=sigmoid;, score=nan total time=  16.6s\n",
      "[CV 3/3] END pca__n_components=0.9, svm__kernel=sigmoid;, score=nan total time=  26.3s\n",
      "[CV 1/3] END pca__n_components=0.8, svm__kernel=linear;, score=nan total time=  23.6s\n",
      "[CV 2/3] END pca__n_components=0.8, svm__kernel=linear;, score=nan total time=  17.7s\n",
      "[CV 3/3] END pca__n_components=0.8, svm__kernel=linear;, score=nan total time=  28.9s\n",
      "[CV 1/3] END pca__n_components=0.8, svm__kernel=rbf;, score=nan total time=  19.3s\n",
      "[CV 2/3] END pca__n_components=0.8, svm__kernel=rbf;, score=nan total time=  23.9s\n",
      "[CV 3/3] END pca__n_components=0.8, svm__kernel=rbf;, score=nan total time=  27.6s\n",
      "[CV 1/3] END pca__n_components=0.8, svm__kernel=poly;, score=nan total time=  23.8s\n",
      "[CV 2/3] END pca__n_components=0.8, svm__kernel=poly;, score=nan total time=  18.1s\n",
      "[CV 3/3] END pca__n_components=0.8, svm__kernel=poly;, score=nan total time=  23.2s\n",
      "[CV 1/3] END pca__n_components=0.8, svm__kernel=sigmoid;, score=nan total time=  25.5s\n",
      "[CV 2/3] END pca__n_components=0.8, svm__kernel=sigmoid;, score=nan total time=  26.4s\n",
      "[CV 3/3] END pca__n_components=0.8, svm__kernel=sigmoid;, score=nan total time=  20.6s\n"
     ]
    },
    {
     "name": "stderr",
     "output_type": "stream",
     "text": [
      "C:\\Users\\pc\\AppData\\Local\\anaconda3\\Lib\\site-packages\\sklearn\\model_selection\\_validation.py:425: FitFailedWarning: \n",
      "24 fits failed out of a total of 48.\n",
      "The score on these train-test partitions for these parameters will be set to nan.\n",
      "If these failures are not expected, you can try to debug them by setting error_score='raise'.\n",
      "\n",
      "Below are more details about the failures:\n",
      "--------------------------------------------------------------------------------\n",
      "2 fits failed with the following error:\n",
      "numpy.core._exceptions._ArrayMemoryError: Unable to allocate 1.68 GiB for an array with shape (225052500,) and data type float64\n",
      "\n",
      "The above exception was the direct cause of the following exception:\n",
      "\n",
      "Traceback (most recent call last):\n",
      "  File \"C:\\Users\\pc\\AppData\\Local\\anaconda3\\Lib\\site-packages\\sklearn\\model_selection\\_validation.py\", line 732, in _fit_and_score\n",
      "    estimator.fit(X_train, y_train, **fit_params)\n",
      "  File \"C:\\Users\\pc\\AppData\\Local\\anaconda3\\Lib\\site-packages\\sklearn\\base.py\", line 1151, in wrapper\n",
      "    return fit_method(estimator, *args, **kwargs)\n",
      "           ^^^^^^^^^^^^^^^^^^^^^^^^^^^^^^^^^^^^^^\n",
      "  File \"C:\\Users\\pc\\AppData\\Local\\anaconda3\\Lib\\site-packages\\sklearn\\pipeline.py\", line 416, in fit\n",
      "    Xt = self._fit(X, y, **fit_params_steps)\n",
      "         ^^^^^^^^^^^^^^^^^^^^^^^^^^^^^^^^^^^\n",
      "  File \"C:\\Users\\pc\\AppData\\Local\\anaconda3\\Lib\\site-packages\\sklearn\\pipeline.py\", line 370, in _fit\n",
      "    X, fitted_transformer = fit_transform_one_cached(\n",
      "                            ^^^^^^^^^^^^^^^^^^^^^^^^^\n",
      "  File \"C:\\Users\\pc\\AppData\\Local\\anaconda3\\Lib\\site-packages\\joblib\\memory.py\", line 349, in __call__\n",
      "    return self.func(*args, **kwargs)\n",
      "           ^^^^^^^^^^^^^^^^^^^^^^^^^^\n",
      "  File \"C:\\Users\\pc\\AppData\\Local\\anaconda3\\Lib\\site-packages\\sklearn\\pipeline.py\", line 950, in _fit_transform_one\n",
      "    res = transformer.fit_transform(X, y, **fit_params)\n",
      "          ^^^^^^^^^^^^^^^^^^^^^^^^^^^^^^^^^^^^^^^^^^^^^\n",
      "  File \"C:\\Users\\pc\\AppData\\Local\\anaconda3\\Lib\\site-packages\\sklearn\\utils\\_set_output.py\", line 140, in wrapped\n",
      "    data_to_wrap = f(self, X, *args, **kwargs)\n",
      "                   ^^^^^^^^^^^^^^^^^^^^^^^^^^^\n",
      "  File \"C:\\Users\\pc\\AppData\\Local\\anaconda3\\Lib\\site-packages\\sklearn\\base.py\", line 1151, in wrapper\n",
      "    return fit_method(estimator, *args, **kwargs)\n",
      "           ^^^^^^^^^^^^^^^^^^^^^^^^^^^^^^^^^^^^^^\n",
      "  File \"C:\\Users\\pc\\AppData\\Local\\anaconda3\\Lib\\site-packages\\sklearn\\decomposition\\_pca.py\", line 460, in fit_transform\n",
      "    U, S, Vt = self._fit(X)\n",
      "               ^^^^^^^^^^^^\n",
      "  File \"C:\\Users\\pc\\AppData\\Local\\anaconda3\\Lib\\site-packages\\sklearn\\decomposition\\_pca.py\", line 510, in _fit\n",
      "    return self._fit_full(X, n_components)\n",
      "           ^^^^^^^^^^^^^^^^^^^^^^^^^^^^^^^\n",
      "  File \"C:\\Users\\pc\\AppData\\Local\\anaconda3\\Lib\\site-packages\\sklearn\\decomposition\\_pca.py\", line 534, in _fit_full\n",
      "    U, S, Vt = linalg.svd(X, full_matrices=False)\n",
      "               ^^^^^^^^^^^^^^^^^^^^^^^^^^^^^^^^^^\n",
      "  File \"C:\\Users\\pc\\AppData\\Local\\anaconda3\\Lib\\site-packages\\scipy\\linalg\\_decomp_svd.py\", line 127, in svd\n",
      "    u, s, v, info = gesXd(a1, compute_uv=compute_uv, lwork=lwork,\n",
      "                    ^^^^^^^^^^^^^^^^^^^^^^^^^^^^^^^^^^^^^^^^^^^^^\n",
      "TypeError: _ArrayMemoryError.__init__() missing 1 required positional argument: 'dtype'\n",
      "\n",
      "--------------------------------------------------------------------------------\n",
      "8 fits failed with the following error:\n",
      "numpy.core._exceptions._ArrayMemoryError: Unable to allocate 763. MiB for an array with shape (13334, 7500) and data type float64\n",
      "\n",
      "The above exception was the direct cause of the following exception:\n",
      "\n",
      "Traceback (most recent call last):\n",
      "  File \"C:\\Users\\pc\\AppData\\Local\\anaconda3\\Lib\\site-packages\\sklearn\\model_selection\\_validation.py\", line 732, in _fit_and_score\n",
      "    estimator.fit(X_train, y_train, **fit_params)\n",
      "  File \"C:\\Users\\pc\\AppData\\Local\\anaconda3\\Lib\\site-packages\\sklearn\\base.py\", line 1151, in wrapper\n",
      "    return fit_method(estimator, *args, **kwargs)\n",
      "           ^^^^^^^^^^^^^^^^^^^^^^^^^^^^^^^^^^^^^^\n",
      "  File \"C:\\Users\\pc\\AppData\\Local\\anaconda3\\Lib\\site-packages\\sklearn\\pipeline.py\", line 416, in fit\n",
      "    Xt = self._fit(X, y, **fit_params_steps)\n",
      "         ^^^^^^^^^^^^^^^^^^^^^^^^^^^^^^^^^^^\n",
      "  File \"C:\\Users\\pc\\AppData\\Local\\anaconda3\\Lib\\site-packages\\sklearn\\pipeline.py\", line 370, in _fit\n",
      "    X, fitted_transformer = fit_transform_one_cached(\n",
      "                            ^^^^^^^^^^^^^^^^^^^^^^^^^\n",
      "  File \"C:\\Users\\pc\\AppData\\Local\\anaconda3\\Lib\\site-packages\\joblib\\memory.py\", line 349, in __call__\n",
      "    return self.func(*args, **kwargs)\n",
      "           ^^^^^^^^^^^^^^^^^^^^^^^^^^\n",
      "  File \"C:\\Users\\pc\\AppData\\Local\\anaconda3\\Lib\\site-packages\\sklearn\\pipeline.py\", line 950, in _fit_transform_one\n",
      "    res = transformer.fit_transform(X, y, **fit_params)\n",
      "          ^^^^^^^^^^^^^^^^^^^^^^^^^^^^^^^^^^^^^^^^^^^^^\n",
      "  File \"C:\\Users\\pc\\AppData\\Local\\anaconda3\\Lib\\site-packages\\sklearn\\utils\\_set_output.py\", line 140, in wrapped\n",
      "    data_to_wrap = f(self, X, *args, **kwargs)\n",
      "                   ^^^^^^^^^^^^^^^^^^^^^^^^^^^\n",
      "  File \"C:\\Users\\pc\\AppData\\Local\\anaconda3\\Lib\\site-packages\\sklearn\\base.py\", line 1151, in wrapper\n",
      "    return fit_method(estimator, *args, **kwargs)\n",
      "           ^^^^^^^^^^^^^^^^^^^^^^^^^^^^^^^^^^^^^^\n",
      "  File \"C:\\Users\\pc\\AppData\\Local\\anaconda3\\Lib\\site-packages\\sklearn\\decomposition\\_pca.py\", line 460, in fit_transform\n",
      "    U, S, Vt = self._fit(X)\n",
      "               ^^^^^^^^^^^^\n",
      "  File \"C:\\Users\\pc\\AppData\\Local\\anaconda3\\Lib\\site-packages\\sklearn\\decomposition\\_pca.py\", line 510, in _fit\n",
      "    return self._fit_full(X, n_components)\n",
      "           ^^^^^^^^^^^^^^^^^^^^^^^^^^^^^^^\n",
      "  File \"C:\\Users\\pc\\AppData\\Local\\anaconda3\\Lib\\site-packages\\sklearn\\decomposition\\_pca.py\", line 534, in _fit_full\n",
      "    U, S, Vt = linalg.svd(X, full_matrices=False)\n",
      "               ^^^^^^^^^^^^^^^^^^^^^^^^^^^^^^^^^^\n",
      "  File \"C:\\Users\\pc\\AppData\\Local\\anaconda3\\Lib\\site-packages\\scipy\\linalg\\_decomp_svd.py\", line 127, in svd\n",
      "    u, s, v, info = gesXd(a1, compute_uv=compute_uv, lwork=lwork,\n",
      "                    ^^^^^^^^^^^^^^^^^^^^^^^^^^^^^^^^^^^^^^^^^^^^^\n",
      "TypeError: _ArrayMemoryError.__init__() missing 1 required positional argument: 'dtype'\n",
      "\n",
      "--------------------------------------------------------------------------------\n",
      "14 fits failed with the following error:\n",
      "numpy.core._exceptions._ArrayMemoryError: Unable to allocate 763. MiB for an array with shape (13333, 7500) and data type float64\n",
      "\n",
      "The above exception was the direct cause of the following exception:\n",
      "\n",
      "Traceback (most recent call last):\n",
      "  File \"C:\\Users\\pc\\AppData\\Local\\anaconda3\\Lib\\site-packages\\sklearn\\model_selection\\_validation.py\", line 732, in _fit_and_score\n",
      "    estimator.fit(X_train, y_train, **fit_params)\n",
      "  File \"C:\\Users\\pc\\AppData\\Local\\anaconda3\\Lib\\site-packages\\sklearn\\base.py\", line 1151, in wrapper\n",
      "    return fit_method(estimator, *args, **kwargs)\n",
      "           ^^^^^^^^^^^^^^^^^^^^^^^^^^^^^^^^^^^^^^\n",
      "  File \"C:\\Users\\pc\\AppData\\Local\\anaconda3\\Lib\\site-packages\\sklearn\\pipeline.py\", line 416, in fit\n",
      "    Xt = self._fit(X, y, **fit_params_steps)\n",
      "         ^^^^^^^^^^^^^^^^^^^^^^^^^^^^^^^^^^^\n",
      "  File \"C:\\Users\\pc\\AppData\\Local\\anaconda3\\Lib\\site-packages\\sklearn\\pipeline.py\", line 370, in _fit\n",
      "    X, fitted_transformer = fit_transform_one_cached(\n",
      "                            ^^^^^^^^^^^^^^^^^^^^^^^^^\n",
      "  File \"C:\\Users\\pc\\AppData\\Local\\anaconda3\\Lib\\site-packages\\joblib\\memory.py\", line 349, in __call__\n",
      "    return self.func(*args, **kwargs)\n",
      "           ^^^^^^^^^^^^^^^^^^^^^^^^^^\n",
      "  File \"C:\\Users\\pc\\AppData\\Local\\anaconda3\\Lib\\site-packages\\sklearn\\pipeline.py\", line 950, in _fit_transform_one\n",
      "    res = transformer.fit_transform(X, y, **fit_params)\n",
      "          ^^^^^^^^^^^^^^^^^^^^^^^^^^^^^^^^^^^^^^^^^^^^^\n",
      "  File \"C:\\Users\\pc\\AppData\\Local\\anaconda3\\Lib\\site-packages\\sklearn\\utils\\_set_output.py\", line 140, in wrapped\n",
      "    data_to_wrap = f(self, X, *args, **kwargs)\n",
      "                   ^^^^^^^^^^^^^^^^^^^^^^^^^^^\n",
      "  File \"C:\\Users\\pc\\AppData\\Local\\anaconda3\\Lib\\site-packages\\sklearn\\base.py\", line 1151, in wrapper\n",
      "    return fit_method(estimator, *args, **kwargs)\n",
      "           ^^^^^^^^^^^^^^^^^^^^^^^^^^^^^^^^^^^^^^\n",
      "  File \"C:\\Users\\pc\\AppData\\Local\\anaconda3\\Lib\\site-packages\\sklearn\\decomposition\\_pca.py\", line 460, in fit_transform\n",
      "    U, S, Vt = self._fit(X)\n",
      "               ^^^^^^^^^^^^\n",
      "  File \"C:\\Users\\pc\\AppData\\Local\\anaconda3\\Lib\\site-packages\\sklearn\\decomposition\\_pca.py\", line 510, in _fit\n",
      "    return self._fit_full(X, n_components)\n",
      "           ^^^^^^^^^^^^^^^^^^^^^^^^^^^^^^^\n",
      "  File \"C:\\Users\\pc\\AppData\\Local\\anaconda3\\Lib\\site-packages\\sklearn\\decomposition\\_pca.py\", line 534, in _fit_full\n",
      "    U, S, Vt = linalg.svd(X, full_matrices=False)\n",
      "               ^^^^^^^^^^^^^^^^^^^^^^^^^^^^^^^^^^\n",
      "  File \"C:\\Users\\pc\\AppData\\Local\\anaconda3\\Lib\\site-packages\\scipy\\linalg\\_decomp_svd.py\", line 127, in svd\n",
      "    u, s, v, info = gesXd(a1, compute_uv=compute_uv, lwork=lwork,\n",
      "                    ^^^^^^^^^^^^^^^^^^^^^^^^^^^^^^^^^^^^^^^^^^^^^\n",
      "TypeError: _ArrayMemoryError.__init__() missing 1 required positional argument: 'dtype'\n",
      "\n",
      "  warnings.warn(some_fits_failed_message, FitFailedWarning)\n",
      "C:\\Users\\pc\\AppData\\Local\\anaconda3\\Lib\\site-packages\\sklearn\\model_selection\\_search.py:976: UserWarning: One or more of the test scores are non-finite: [0.53015035 0.56459997 0.4937999  0.50220012 0.51835033 0.52695012\n",
      " 0.49800004 0.50030001        nan        nan        nan        nan\n",
      "        nan        nan        nan        nan]\n",
      "  warnings.warn(\n"
     ]
    }
   ],
   "source": [
    "# Hitung waktu training\n",
    "start_time = time.time()\n",
    "\n",
    "grid_search = GridSearchCV(pipeline, param_grid, cv=3, verbose=4)\n",
    "grid_search.fit(X_train, y_train)\n",
    "\n",
    "# Hitung waktu training\n",
    "end_time = time.time()"
   ]
  },
  {
   "cell_type": "code",
   "execution_count": 12,
   "id": "2016ccb6",
   "metadata": {},
   "outputs": [],
   "source": [
    "del X_train\n",
    "del y_train"
   ]
  },
  {
   "cell_type": "code",
   "execution_count": 13,
   "id": "a8d6a5a8",
   "metadata": {},
   "outputs": [
    {
     "name": "stdout",
     "output_type": "stream",
     "text": [
      "Best Parameters:  {'pca__n_components': 2, 'svm__kernel': 'rbf'}\n",
      "Best Score:  0.5645999653212659\n"
     ]
    }
   ],
   "source": [
    "# Mendapatkan model terbaik dan parameter terbaik\n",
    "best_pipeline = grid_search.best_estimator_\n",
    "best_params = grid_search.best_params_\n",
    "best_score = grid_search.best_score_\n",
    "\n",
    "print(\"Best Parameters: \", best_params)\n",
    "print(\"Best Score: \", best_score)"
   ]
  },
  {
   "cell_type": "code",
   "execution_count": 14,
   "id": "990617de",
   "metadata": {},
   "outputs": [
    {
     "name": "stdout",
     "output_type": "stream",
     "text": [
      "Accuracy: 0.5794\n"
     ]
    }
   ],
   "source": [
    "# Evaluation on test dataset\n",
    "accuracy = best_pipeline.score(X_test, y_test)\n",
    "print(\"Accuracy:\", accuracy)"
   ]
  },
  {
   "cell_type": "code",
   "execution_count": 15,
   "id": "505649a7",
   "metadata": {},
   "outputs": [
    {
     "name": "stdout",
     "output_type": "stream",
     "text": [
      "Classification Report:\n",
      "               precision    recall  f1-score   support\n",
      "\n",
      "         Cat       0.61      0.44      0.51      2515\n",
      "         Dog       0.56      0.72      0.63      2485\n",
      "\n",
      "    accuracy                           0.58      5000\n",
      "   macro avg       0.59      0.58      0.57      5000\n",
      "weighted avg       0.59      0.58      0.57      5000\n",
      "\n"
     ]
    }
   ],
   "source": [
    "y_pred = best_pipeline.predict(X_test)\n",
    "\n",
    "# classification report\n",
    "target_names = ['Cat', 'Dog']\n",
    "classification_rep = classification_report(y_test, y_pred, target_names=target_names)\n",
    "print(\"Classification Report:\\n\", classification_rep)\n",
    "\n",
    "with open(classification_file_path, 'w') as file:\n",
    "    file.write(classification_rep)"
   ]
  },
  {
   "cell_type": "code",
   "execution_count": 17,
   "id": "d820f7e7",
   "metadata": {},
   "outputs": [
    {
     "data": {
      "image/png": "[encoded data removed]",
      "text/plain": [
       "<Figure size 640x480 with 2 Axes>"
      ]
     },
     "metadata": {},
     "output_type": "display_data"
    }
   ],
   "source": [
    "# Confusion matrix\n",
    "cm = confusion_matrix(y_test, y_pred)\n",
    "sns.heatmap(cm, annot=True, fmt=\"d\", cmap=\"Greens\")\n",
    "plt.xlabel('Predicted labels')\n",
    "plt.ylabel('True labels')\n",
    "plt.savefig(confusion_image_path)\n",
    "plt.show()"
   ]
  }
 ],
 "metadata": {
  "kernelspec": {
   "display_name": "Python 3 (ipykernel)",
   "language": "python",
   "name": "python3"
  },
  "language_info": {
   "codemirror_mode": {
    "name": "ipython",
    "version": 3
   },
   "file_extension": ".py",
   "mimetype": "text/x-python",
   "name": "python",
   "nbconvert_exporter": "python",
   "pygments_lexer": "ipython3",
   "version": "3.11.5"
  }
 },
 "nbformat": 4,
 "nbformat_minor": 5
}
